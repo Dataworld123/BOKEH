{
 "cells": [
  {
   "cell_type": "code",
   "execution_count": null,
   "id": "16bbd3a4-1bd8-455e-a3c3-193f3862ece7",
   "metadata": {},
   "outputs": [],
   "source": [
    "Q1. How can you create a Bokeh plot using Python code?"
   ]
  },
  {
   "cell_type": "code",
   "execution_count": null,
   "id": "f0113492-1f74-464d-af0d-bef9e3e45c23",
   "metadata": {},
   "outputs": [],
   "source": [
    "ANS-\n",
    "\n",
    "1.Import the necessary modules: Import the required modules from Bokeh.\n",
    "\n",
    "2. Prepare your data: Organize the data you want to plot into appropriate data structures, like lists or arrays.\n",
    "\n",
    "3.Create the plot: Use Bokeh's plotting functions to generate the desired plot.\n",
    "\n",
    "4.Display the plot: Show the plot either in a web browser or within a Jupyter notebook."
   ]
  },
  {
   "cell_type": "code",
   "execution_count": null,
   "id": "b0fdcb8d-459e-491a-b440-21a6e867733a",
   "metadata": {},
   "outputs": [],
   "source": [
    "pip install bokeh\n"
   ]
  },
  {
   "cell_type": "code",
   "execution_count": null,
   "id": "927b0330-5c05-4c38-8185-260400cfe641",
   "metadata": {},
   "outputs": [],
   "source": [
    "# Step 2: Import the necessary modules\n",
    "from bokeh.plotting import figure, show\n",
    "from bokeh.io import output_notebook\n",
    "\n",
    "# Step 3: Prepare your data\n",
    "x = [1, 2, 3, 4, 5]\n",
    "y = [6, 7, 2, 4, 5]\n",
    "\n",
    "# Step 4: Create the plot\n",
    "plot = figure(title='Bokeh Plot Example', x_axis_label='X-axis', y_axis_label='Y-axis', plot_width=100, plot_height=100)\n",
    "plot.line(x, y, line_width=2)\n",
    "\n",
    "# Step 5: Display the plot in a Jupyter notebook (optional)\n",
    "output_notebook()\n",
    "show(plot)\n"
   ]
  },
  {
   "cell_type": "code",
   "execution_count": null,
   "id": "aa61ed0e-0b46-4c36-825b-f2e11ca978f9",
   "metadata": {},
   "outputs": [],
   "source": [
    "Q2. What are glyphs in Bokeh, and how can you add them to a Bokeh plot? Explain with an example."
   ]
  },
  {
   "cell_type": "markdown",
   "id": "3d295038-a24e-435e-b59e-e86f67648237",
   "metadata": {},
   "source": [
    "ANS-In Bokeh, glyphs are the visual representations of data on a plot. They are used to display data points, lines, bars, shapes, and other graphical elements. Glyphs are the building blocks of Bokeh plots, and they allow you to represent your data in various ways.\n",
    "\n",
    "To add glyphs to a Bokeh plot, you first need to create a figure using the figure() function. Then, you can use specific glyph methods (e.g., line(), circle(), square(), rect(), etc.) provided by Bokeh to add the desired visual elements to the plot."
   ]
  },
  {
   "cell_type": "code",
   "execution_count": null,
   "id": "6c559f53-1345-4b5b-b10f-de58a7a19082",
   "metadata": {},
   "outputs": [],
   "source": [
    "from bokeh.plotting import figure, show\n",
    "from bokeh.io import output_notebook\n",
    "\n",
    "# Prepare your data\n",
    "x = [1, 2, 3, 4, 5]\n",
    "y = [6, 7, 2, 4, 5]\n",
    "\n",
    "# Create the plot\n",
    "plot = figure(title='Glyphs Example', x_axis_label='X-axis', y_axis_label='Y-axis', plot_width=400, plot_height=400)\n",
    "\n",
    "# Add line glyph\n",
    "plot.line(x, y, line_width=2, line_color='blue', legend_label='Line')\n",
    "\n",
    "# Add circle glyph\n",
    "plot.circle(x, y, size=10, fill_color='red', line_color='black', legend_label='Circle')\n",
    "\n",
    "# Show legends\n",
    "plot.legend.location = 'top_left'\n",
    "plot.legend.title = 'Glyphs'\n",
    "plot.legend.title_text_font_style = 'bold'\n",
    "\n",
    "# Display the plot in a Jupyter notebook (optional)\n",
    "output_notebook()\n",
    "show(plot)\n"
   ]
  },
  {
   "cell_type": "code",
   "execution_count": null,
   "id": "39e337c7-dee5-444c-9ac2-da3510ca916b",
   "metadata": {},
   "outputs": [],
   "source": [
    "Q3. How can you customize the appearance of a Bokeh plot, including the axes, title, and legend?"
   ]
  },
  {
   "cell_type": "markdown",
   "id": "20c6f3f8-84e0-4a7c-afd1-b621d5fdf797",
   "metadata": {},
   "source": [
    "ANS-You can customize the appearance of a Bokeh plot, including the axes, title, and legend, using various attributes and properties provided by Bokeh. Here's a breakdown of how you can customize these elements:\n",
    "\n",
    "Customize Axes:\n",
    "\n",
    "To customize the axis labels, use the x_axis_label and y_axis_label attributes of the figure.\n",
    "To set axis ranges and ticks, use the x_range, y_range, x_axis_type, and y_axis_type attributes of the figure.\n",
    "To modify the appearance of axis lines, ticks, and labels, you can access the corresponding Axis objects using the axis attribute of the figure and customize their properties.\n",
    "Customize Title:\n",
    "\n",
    "To set the plot title, use the title attribute of the figure.\n",
    "You can also customize the title font, color, alignment, and other properties using the title_text_font, title_text_color, title_text_font_size, and other similar attributes.\n",
    "Customize Legend:\n",
    "\n",
    "To add a legend to the plot, create the desired glyphs with legend_label attributes.\n",
    "You can set the position of the legend using the legend.location attribute, which can take values like 'top_left', 'bottom_right', etc.\n",
    "Further customize the legend title, font, and other properties through the legend attribute of the figure."
   ]
  },
  {
   "cell_type": "code",
   "execution_count": null,
   "id": "db41b8e5-d825-43be-b08c-28cf5418a4d0",
   "metadata": {},
   "outputs": [],
   "source": [
    "from bokeh.plotting import figure, show\n",
    "from bokeh.io import output_notebook\n",
    "\n",
    "# Prepare your data\n",
    "x = [1, 2, 3, 4, 5]\n",
    "y = [6, 7, 2, 4, 5]\n",
    "\n",
    "# Create the plot\n",
    "plot = figure(title='Customization Example', x_axis_label='X-axis', y_axis_label='Y-axis',\n",
    "              plot_width=400, plot_height=400)\n",
    "\n",
    "# Customize axes appearance\n",
    "plot.xaxis.axis_label_text_color = 'blue'\n",
    "plot.yaxis.axis_label_text_color = 'green'\n",
    "plot.xaxis.major_label_text_color = 'orange'\n",
    "plot.yaxis.major_label_text_color = 'purple'\n",
    "\n",
    "# Customize title appearance\n",
    "plot.title.text_font = 'Helvetica'\n",
    "plot.title.text_color = 'navy'\n",
    "plot.title.text_font_size = '16px'\n",
    "plot.title.align = 'center'\n",
    "\n",
    "# Add line glyph with legend\n",
    "plot.line(x, y, line_width=2, line_color='blue', legend_label='Line')\n",
    "\n",
    "# Add circle glyph with legend\n",
    "plot.circle(x, y, size=10, fill_color='red', line_color='black', legend_label='Circle')\n",
    "\n",
    "# Customize legend appearance\n",
    "plot.legend.location = 'top_left'\n",
    "plot.legend.title = 'Data'\n",
    "plot.legend.title_text_font_style = 'bold'\n",
    "plot.legend.label_text_font = 'italic'\n",
    "\n",
    "# Display the plot in a Jupyter notebook (optional)\n",
    "output_notebook()\n",
    "show(plot)\n"
   ]
  },
  {
   "cell_type": "code",
   "execution_count": null,
   "id": "4499acd3-f9c8-4e71-839d-2d6d629574f2",
   "metadata": {},
   "outputs": [],
   "source": [
    "Q4. What is a Bokeh server, and how can you use it to create interactive plots that can be updated in\n",
    "real time?"
   ]
  },
  {
   "cell_type": "markdown",
   "id": "9b5f7db7-6763-4384-a895-bab04327a465",
   "metadata": {},
   "source": [
    "ANS- \n",
    "A Bokeh server is a Python process that allows you to create interactive web applications and dashboards with Bokeh plots. It enables you to build dynamic and interactive data visualizations that can be updated in real-time based on user input or changes in the data. By using the Bokeh server, you can turn your static Bokeh plots into living, responsive applications that respond to user interactions and data updates.\n",
    "\n",
    "To use the Bokeh server and create interactive plots that update in real-time, follow these steps:\n",
    "\n",
    "Install Bokeh: If you haven't installed Bokeh already, you can do so using pip:\n",
    "bash\n",
    "Copy code\n",
    "pip install bokeh\n",
    "Import the necessary modules: Import the required modules from Bokeh.\n",
    "\n",
    "Prepare your data: Organize the data you want to visualize into appropriate data structures.\n",
    "\n",
    "Create the plot: Define your Bokeh plot as you would normally do.\n",
    "\n",
    "Add interactivity: Use Bokeh's widgets (e.g., sliders, buttons, dropdowns) to enable user interactions.\n",
    "\n",
    "Define callback functions: Write Python functions that update the plot based on widget inputs.\n",
    "\n",
    "Run the Bokeh server: Use the bokeh serve command to start the Bokeh server and make your plot interactive."
   ]
  },
  {
   "cell_type": "code",
   "execution_count": null,
   "id": "493ac9c4-50f5-47e2-a7aa-fee4d36dda8b",
   "metadata": {},
   "outputs": [],
   "source": [
    "# Step 2: Import the necessary modules\n",
    "from bokeh.plotting import figure, curdoc\n",
    "from bokeh.models import ColumnDataSource, Slider\n",
    "\n",
    "# Step 3: Prepare your data\n",
    "x = [1, 2, 3, 4, 5]\n",
    "y = [6, 7, 2, 4, 5]\n",
    "\n",
    "# Step 4: Create the plot\n",
    "plot = figure(title='Interactive Scatter Plot', x_axis_label='X-axis', y_axis_label='Y-axis',\n",
    "              plot_width=400, plot_height=400)\n",
    "source = ColumnDataSource(data=dict(x=x, y=y))\n",
    "plot.scatter('x', 'y', source=source, size=10, color='blue')\n",
    "\n",
    "# Step 5: Add interactivity - Slider widget\n",
    "slider = Slider(start=1, end=10, value=1, step=1, title='Scale Factor')\n",
    "\n",
    "# Step 6: Define callback functions\n",
    "def update_data(attrname, old, new):\n",
    "    scale_factor = slider.value\n",
    "    new_y = [scale_factor * val for val in y]\n",
    "    source.data = dict(x=x, y=new_y)\n",
    "\n",
    "slider.on_change('value', update_data)\n",
    "\n",
    "# Step 7: Run the Bokeh server\n",
    "curdoc().add_root(plot)\n",
    "curdoc().add_root(slider)\n"
   ]
  },
  {
   "cell_type": "code",
   "execution_count": null,
   "id": "24da1a7f-7eca-47e6-8fb9-d85b084bba76",
   "metadata": {},
   "outputs": [],
   "source": [
    "Q5. How can you embed a Bokeh plot into a web page or dashboard using Flask or Django?"
   ]
  },
  {
   "cell_type": "markdown",
   "id": "ae28ab82-3fc8-4051-b9a4-5ad988a46d5c",
   "metadata": {},
   "source": [
    "ANS-Embedding a Bokeh plot into a web page or dashboard using Flask or Django involves a few steps. I'll provide examples for both Flask and Django frameworks:\n",
    "\n",
    "Embedding Bokeh Plot with Flask:\n",
    "Install the required libraries:\n",
    "First, make sure you have Flask and Bokeh installed:"
   ]
  },
  {
   "cell_type": "code",
   "execution_count": null,
   "id": "f679bfb9-150d-4f0a-811a-ca39ea97f26b",
   "metadata": {},
   "outputs": [],
   "source": [
    "pip install Flask bokeh\n"
   ]
  },
  {
   "cell_type": "code",
   "execution_count": null,
   "id": "a828c3e6-1a2a-421d-b7d1-171c2be194bd",
   "metadata": {},
   "outputs": [],
   "source": [
    "Create a Flask app and generate the Bokeh plot:\n",
    "Save the following code in a Python file (e.g., app.py):"
   ]
  },
  {
   "cell_type": "code",
   "execution_count": null,
   "id": "de983629-3ec2-41c1-afcd-f1e406979228",
   "metadata": {},
   "outputs": [],
   "source": [
    "from flask import Flask, render_template\n",
    "from bokeh.plotting import figure\n",
    "from bokeh.embed import components\n",
    "from bokeh.resources import INLINE\n",
    "\n",
    "app = Flask(__name__)\n",
    "\n",
    "@app.route('/')\n",
    "def index():\n",
    "    # Prepare your data\n",
    "    x = [1, 2, 3, 4, 5]\n",
    "    y = [6, 7, 2, 4, 5]\n",
    "\n",
    "    # Create the plot\n",
    "    plot = figure(title='Flask Embedding Example', x_axis_label='X-axis', y_axis_label='Y-axis',\n",
    "                  plot_width=400, plot_height=400)\n",
    "    plot.line(x, y, line_width=2)\n",
    "\n",
    "    # Generate the script and div components to embed in the template\n",
    "    script, div = components(plot, resources=INLINE)\n",
    "\n",
    "    return render_template('index.html', script=script, div=div)\n",
    "\n",
    "if __name__ == '__main__':\n",
    "    app.run(debug=True)\n"
   ]
  },
  {
   "cell_type": "markdown",
   "id": "8bc438ef-23a4-4dc6-8774-9ad48dc445b0",
   "metadata": {},
   "source": [
    "Create the HTML template (index.html) to render the Bokeh plot:\n",
    "Save the following code in a file named index.html in a folder named templates (make sure to create the folder if it doesn't exist):"
   ]
  },
  {
   "cell_type": "code",
   "execution_count": null,
   "id": "d5cb82d8-0734-45c5-bfed-eff4cbee1336",
   "metadata": {},
   "outputs": [],
   "source": [
    "<!DOCTYPE html>\n",
    "<html>\n",
    "<head>\n",
    "    <title>Flask Bokeh Embedding Example</title>\n",
    "    {{ script|safe }}\n",
    "</head>\n",
    "<body>\n",
    "    <h1>Bokeh Plot</h1>\n",
    "    {{ div|safe }}\n",
    "</body>\n",
    "</html>\n"
   ]
  },
  {
   "cell_type": "markdown",
   "id": "d3c22478-4e60-46f2-8d10-c853231ea982",
   "metadata": {},
   "source": [
    "Run the Flask app:\n",
    "Open a terminal and run the Flask app using:"
   ]
  },
  {
   "cell_type": "code",
   "execution_count": null,
   "id": "e55cb823-4265-42be-b549-635533cea180",
   "metadata": {},
   "outputs": [],
   "source": [
    "python app.py\n"
   ]
  },
  {
   "cell_type": "raw",
   "id": "7fd9a53d-a4df-458a-ab39-ac356f9af0fb",
   "metadata": {},
   "source": [
    "Embedding Bokeh Plot with Django:"
   ]
  },
  {
   "cell_type": "markdown",
   "id": "e7c9bf0c-18f5-4dba-8e79-459e07cc40aa",
   "metadata": {},
   "source": [
    "Install the required libraries:\n",
    "First, make sure you have Django and Bokeh installed:"
   ]
  },
  {
   "cell_type": "code",
   "execution_count": null,
   "id": "9520d0ac-d3be-4434-bd5e-f9f545093142",
   "metadata": {},
   "outputs": [],
   "source": [
    "pip install Django bokeh\n"
   ]
  },
  {
   "cell_type": "markdown",
   "id": "769bbe2d-d808-4d03-87c5-81e444b478c2",
   "metadata": {},
   "source": [
    "Create a Django project and app, and generate the Bokeh plot:\n",
    "In a terminal, run the following commands:"
   ]
  },
  {
   "cell_type": "code",
   "execution_count": null,
   "id": "5260737d-da67-43b8-a4b8-0264b3001f7e",
   "metadata": {},
   "outputs": [],
   "source": [
    "django-admin startproject myproject\n",
    "cd myproject\n",
    "python manage.py startapp myapp\n"
   ]
  },
  {
   "cell_type": "markdown",
   "id": "37ff1d5c-7e96-4966-859c-4af1f7c377f1",
   "metadata": {},
   "source": [
    "Save the following code in myapp/views.py:"
   ]
  },
  {
   "cell_type": "code",
   "execution_count": null,
   "id": "962caa99-1fb9-4cca-a0da-7dd3e326f846",
   "metadata": {},
   "outputs": [],
   "source": [
    "from django.shortcuts import render\n",
    "from bokeh.plotting import figure\n",
    "from bokeh.embed import components\n",
    "from bokeh.resources import INLINE\n",
    "\n",
    "def index(request):\n",
    "    # Prepare your data\n",
    "    x = [1, 2, 3, 4, 5]\n",
    "    y = [6, 7, 2, 4, 5]\n",
    "\n",
    "    # Create the plot\n",
    "    plot = figure(title='Django Embedding Example', x_axis_label='X-axis', y_axis_label='Y-axis',\n",
    "                  plot_width=400, plot_height=400)\n",
    "    plot.line(x, y, line_width=2)\n",
    "\n",
    "    # Generate the script and div components to embed in the template\n",
    "    script, div = components(plot, resources=INLINE)\n",
    "\n",
    "    return render(request, 'index.html', {'script': script, 'div': div})\n"
   ]
  },
  {
   "cell_type": "markdown",
   "id": "f72a5978-6efc-49bf-84b6-e05461ebcc84",
   "metadata": {},
   "source": [
    "Configure URLs and templates:\n",
    "In myproject/urls.py, add the following:"
   ]
  },
  {
   "cell_type": "code",
   "execution_count": null,
   "id": "f4a71811-3d7e-4aa4-8e01-c8a85c4590c6",
   "metadata": {},
   "outputs": [],
   "source": [
    "from django.contrib import admin\n",
    "from django.urls import path\n",
    "from myapp.views import index\n",
    "\n",
    "urlpatterns = [\n",
    "    path('admin/', admin.site.urls),\n",
    "    path('', index, name='index'),\n",
    "]\n"
   ]
  },
  {
   "cell_type": "markdown",
   "id": "4fe95c38-8378-4c2a-9aec-23305bf59220",
   "metadata": {},
   "source": [
    "Run the Django development server:\n",
    "Run the following command in the terminal to start the Django development server:"
   ]
  },
  {
   "cell_type": "code",
   "execution_count": null,
   "id": "cd415406-200a-4bad-93e1-69e74869ad37",
   "metadata": {},
   "outputs": [],
   "source": [
    "py"
   ]
  }
 ],
 "metadata": {
  "kernelspec": {
   "display_name": "Python 3 (ipykernel)",
   "language": "python",
   "name": "python3"
  },
  "language_info": {
   "codemirror_mode": {
    "name": "ipython",
    "version": 3
   },
   "file_extension": ".py",
   "mimetype": "text/x-python",
   "name": "python",
   "nbconvert_exporter": "python",
   "pygments_lexer": "ipython3",
   "version": "3.10.8"
  }
 },
 "nbformat": 4,
 "nbformat_minor": 5
}
